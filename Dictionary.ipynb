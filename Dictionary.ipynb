{
 "cells": [
  {
   "cell_type": "code",
   "execution_count": 1,
   "id": "ef67d07f-b5fe-4607-bce8-e92aded0d004",
   "metadata": {},
   "outputs": [
    {
     "data": {
      "text/plain": [
       "{'name': 'john', 'age': 25, 'school': 'j.b'}"
      ]
     },
     "execution_count": 1,
     "metadata": {},
     "output_type": "execute_result"
    }
   ],
   "source": [
    "stu  = {'name':\"john\", 'age':25 , 'school': \"j.b\"}\n",
    "stu"
   ]
  },
  {
   "cell_type": "code",
   "execution_count": 4,
   "id": "1db30e55-43e8-490f-ad63-ae32438268ef",
   "metadata": {},
   "outputs": [
    {
     "data": {
      "text/plain": [
       "'john'"
      ]
     },
     "execution_count": 4,
     "metadata": {},
     "output_type": "execute_result"
    }
   ],
   "source": [
    "stu['name']"
   ]
  },
  {
   "cell_type": "code",
   "execution_count": 5,
   "id": "916f63a6-26bd-4702-b28d-4a1ab010541e",
   "metadata": {},
   "outputs": [
    {
     "data": {
      "text/plain": [
       "25"
      ]
     },
     "execution_count": 5,
     "metadata": {},
     "output_type": "execute_result"
    }
   ],
   "source": [
    "stu['age']"
   ]
  },
  {
   "cell_type": "code",
   "execution_count": 7,
   "id": "f4c54671-6c17-4124-87fe-4608bfc23d56",
   "metadata": {},
   "outputs": [
    {
     "data": {
      "text/plain": [
       "dict_items([('name', 'john'), ('age', 25), ('school', 'j.b')])"
      ]
     },
     "execution_count": 7,
     "metadata": {},
     "output_type": "execute_result"
    }
   ],
   "source": [
    "stu.items() ## tuples"
   ]
  },
  {
   "cell_type": "code",
   "execution_count": 8,
   "id": "2e479540-26c4-48c4-8097-5433ccd688ac",
   "metadata": {},
   "outputs": [
    {
     "data": {
      "text/plain": [
       "dict_keys(['name', 'age', 'school'])"
      ]
     },
     "execution_count": 8,
     "metadata": {},
     "output_type": "execute_result"
    }
   ],
   "source": [
    "stu.keys()"
   ]
  },
  {
   "cell_type": "markdown",
   "id": "96521d87-0856-4e9d-b9ce-c7b9606bf4df",
   "metadata": {},
   "source": [
    "stu.values()"
   ]
  },
  {
   "cell_type": "markdown",
   "id": "ef1cf201-2360-48f8-a221-d445a750d8d5",
   "metadata": {},
   "source": [
    "### adding and deleting key and values"
   ]
  },
  {
   "cell_type": "code",
   "execution_count": 20,
   "id": "68844d6b-7c08-402d-9bce-794b1ed3eb2f",
   "metadata": {},
   "outputs": [
    {
     "name": "stdout",
     "output_type": "stream",
     "text": [
      "{'name': 'john', 'age': 25, 'school': 'j.b', 'key': 'value'}\n"
     ]
    }
   ],
   "source": [
    "stu['key']= \"value\"\n",
    "print(stu)"
   ]
  },
  {
   "cell_type": "code",
   "execution_count": 21,
   "id": "f167d380-7a35-44ca-a7da-710f14ec17bd",
   "metadata": {},
   "outputs": [
    {
     "name": "stdout",
     "output_type": "stream",
     "text": [
      "{'name': 'john', 'age': 25, 'school': 'j.b', 'key': 'value'}\n"
     ]
    }
   ],
   "source": [
    "print(stu)"
   ]
  },
  {
   "cell_type": "code",
   "execution_count": 22,
   "id": "7c7b763c-a5f9-463b-9aaf-b6861e730da7",
   "metadata": {},
   "outputs": [
    {
     "name": "stdout",
     "output_type": "stream",
     "text": [
      "{'name': 'john', 'age': 25, 'school': 'j.b'}\n"
     ]
    }
   ],
   "source": [
    "del stu['key']\n",
    "print(stu)"
   ]
  },
  {
   "cell_type": "code",
   "execution_count": 25,
   "id": "f9d2c623-f6c6-42b3-b2c3-3ccf71529906",
   "metadata": {},
   "outputs": [
    {
     "name": "stdout",
     "output_type": "stream",
     "text": [
      "key :  name  value : john\n",
      "key :  age  value : 25\n",
      "key :  school  value : j.b\n"
     ]
    }
   ],
   "source": [
    "for i,j in stu.items():\n",
    "    print(\"key : \",i , \" value :\",j)"
   ]
  },
  {
   "cell_type": "code",
   "execution_count": null,
   "id": "58236d8d-a7e1-48ac-9bf5-eb3b2e2f840e",
   "metadata": {},
   "outputs": [],
   "source": []
  }
 ],
 "metadata": {
  "kernelspec": {
   "display_name": "anaconda-panel-2023.05-py310",
   "language": "python",
   "name": "conda-env-anaconda-panel-2023.05-py310-py"
  },
  "language_info": {
   "codemirror_mode": {
    "name": "ipython",
    "version": 3
   },
   "file_extension": ".py",
   "mimetype": "text/x-python",
   "name": "python",
   "nbconvert_exporter": "python",
   "pygments_lexer": "ipython3",
   "version": "3.11.5"
  }
 },
 "nbformat": 4,
 "nbformat_minor": 5
}

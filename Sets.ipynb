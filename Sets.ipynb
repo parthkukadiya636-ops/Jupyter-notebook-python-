{
 "cells": [
  {
   "cell_type": "code",
   "execution_count": null,
   "id": "94fff0e0-7d39-4fdc-a961-5c2e37937582",
   "metadata": {},
   "outputs": [],
   "source": [
    "#Set :\n",
    "    unordered\n",
    "    it will have unique values\n",
    "    elements of different datatype\n",
    "\n",
    "add\n",
    "remove\n",
    "union\n",
    "intersection\n",
    "difference\n",
    "symmetric difference "
   ]
  },
  {
   "cell_type": "code",
   "execution_count": 5,
   "id": "822022a2-02d2-45f6-8c04-f723405ddb64",
   "metadata": {},
   "outputs": [],
   "source": [
    "a ={'a', 'b', 'c', 'd' ,'parth', 'hi'}\n",
    "b= {'a', 'e', 'c', 'd', 'ram', 'hi'}"
   ]
  },
  {
   "cell_type": "code",
   "execution_count": 6,
   "id": "4d39c348-1b5e-46b1-b955-20dd1ff4c432",
   "metadata": {},
   "outputs": [
    {
     "data": {
      "text/plain": [
       "{'a', 'b', 'c', 'd', 'hi', 'parth'}"
      ]
     },
     "execution_count": 6,
     "metadata": {},
     "output_type": "execute_result"
    }
   ],
   "source": [
    "a"
   ]
  },
  {
   "cell_type": "code",
   "execution_count": 7,
   "id": "5cca2da9-a32d-43e1-9d11-079e975e7c1e",
   "metadata": {},
   "outputs": [
    {
     "data": {
      "text/plain": [
       "set"
      ]
     },
     "execution_count": 7,
     "metadata": {},
     "output_type": "execute_result"
    }
   ],
   "source": [
    "type(a)"
   ]
  },
  {
   "cell_type": "code",
   "execution_count": 8,
   "id": "013137b7-e32b-45d0-986a-2fa9c1737f40",
   "metadata": {},
   "outputs": [
    {
     "data": {
      "text/plain": [
       "True"
      ]
     },
     "execution_count": 8,
     "metadata": {},
     "output_type": "execute_result"
    }
   ],
   "source": [
    "'a'in a"
   ]
  },
  {
   "cell_type": "code",
   "execution_count": 9,
   "id": "fe07e1f7-781d-477b-b5da-9b2ebcdfba01",
   "metadata": {},
   "outputs": [],
   "source": [
    "a.add('kukadiya')"
   ]
  },
  {
   "cell_type": "code",
   "execution_count": 10,
   "id": "9b3dced2-9ed1-41d6-8f5e-c25093263ef6",
   "metadata": {},
   "outputs": [
    {
     "name": "stdout",
     "output_type": "stream",
     "text": [
      "{'d', 'hi', 'b', 'kukadiya', 'c', 'a', 'parth'}\n"
     ]
    }
   ],
   "source": [
    "print(a)"
   ]
  },
  {
   "cell_type": "code",
   "execution_count": 11,
   "id": "717a6204-7fbc-49ef-8c76-1f546e508d14",
   "metadata": {},
   "outputs": [
    {
     "name": "stdout",
     "output_type": "stream",
     "text": [
      "{'d', 'hi', 'b', 'c', 'a', 'parth'}\n"
     ]
    }
   ],
   "source": [
    "a.remove('kukadiya')\n",
    "print(a)"
   ]
  },
  {
   "cell_type": "code",
   "execution_count": 12,
   "id": "40bf5eb0-df46-4bf9-b9d8-10d3955da6b4",
   "metadata": {},
   "outputs": [
    {
     "name": "stdout",
     "output_type": "stream",
     "text": [
      "d\n",
      "hi\n",
      "b\n",
      "c\n",
      "a\n",
      "parth\n"
     ]
    }
   ],
   "source": [
    "for i in a:\n",
    "    print(i)"
   ]
  },
  {
   "cell_type": "code",
   "execution_count": 14,
   "id": "b8ae2786-916f-4382-9e85-6c2103e69318",
   "metadata": {},
   "outputs": [
    {
     "name": "stdout",
     "output_type": "stream",
     "text": [
      "{'c', 'a', 'd', 'hi', 'ram', 'b', 'e', 'parth'}\n"
     ]
    }
   ],
   "source": [
    "c = a.union(b)\n",
    "print(c)"
   ]
  },
  {
   "cell_type": "code",
   "execution_count": 15,
   "id": "5e015155-6e39-4356-9683-0245fd7b1000",
   "metadata": {},
   "outputs": [
    {
     "data": {
      "text/plain": [
       "{'a', 'c', 'd', 'hi'}"
      ]
     },
     "execution_count": 15,
     "metadata": {},
     "output_type": "execute_result"
    }
   ],
   "source": [
    "a.intersection(b)"
   ]
  },
  {
   "cell_type": "code",
   "execution_count": 16,
   "id": "7c214c87-e597-4d97-aa3e-d1925b1e573a",
   "metadata": {},
   "outputs": [
    {
     "data": {
      "text/plain": [
       "False"
      ]
     },
     "execution_count": 16,
     "metadata": {},
     "output_type": "execute_result"
    }
   ],
   "source": [
    "a.issubset(b)"
   ]
  },
  {
   "cell_type": "code",
   "execution_count": 17,
   "id": "92ec406b-3fcd-4cad-8406-b2501d29703c",
   "metadata": {},
   "outputs": [
    {
     "data": {
      "text/plain": [
       "True"
      ]
     },
     "execution_count": 17,
     "metadata": {},
     "output_type": "execute_result"
    }
   ],
   "source": [
    "a.issubset(c)"
   ]
  },
  {
   "cell_type": "code",
   "execution_count": 18,
   "id": "71e0e7ff-249b-4fd8-a58f-238619182fc8",
   "metadata": {},
   "outputs": [
    {
     "data": {
      "text/plain": [
       "{'b', 'parth'}"
      ]
     },
     "execution_count": 18,
     "metadata": {},
     "output_type": "execute_result"
    }
   ],
   "source": [
    "a.difference(b)"
   ]
  },
  {
   "cell_type": "code",
   "execution_count": 19,
   "id": "ff4230c8-199e-4e3c-b85f-92c37e9a29c5",
   "metadata": {},
   "outputs": [
    {
     "data": {
      "text/plain": [
       "True"
      ]
     },
     "execution_count": 19,
     "metadata": {},
     "output_type": "execute_result"
    }
   ],
   "source": [
    "c.issuperset(b)"
   ]
  },
  {
   "cell_type": "code",
   "execution_count": 20,
   "id": "25d39fa5-fe20-4f86-856f-27ee099836cd",
   "metadata": {},
   "outputs": [
    {
     "data": {
      "text/plain": [
       "{'b', 'e', 'parth', 'ram'}"
      ]
     },
     "execution_count": 20,
     "metadata": {},
     "output_type": "execute_result"
    }
   ],
   "source": [
    "a.symmetric_difference(b)"
   ]
  },
  {
   "cell_type": "code",
   "execution_count": 21,
   "id": "2f1adc0b-61d8-4f25-8644-9051dd35eb46",
   "metadata": {},
   "outputs": [
    {
     "data": {
      "text/plain": [
       "{'b', 'e', 'parth', 'ram'}"
      ]
     },
     "execution_count": 21,
     "metadata": {},
     "output_type": "execute_result"
    }
   ],
   "source": [
    "b.symmetric_difference(a)"
   ]
  },
  {
   "cell_type": "code",
   "execution_count": null,
   "id": "b9e4a48b-0aeb-4484-ae13-cfdfbbc0621d",
   "metadata": {},
   "outputs": [],
   "source": []
  },
  {
   "cell_type": "code",
   "execution_count": null,
   "id": "ea549eb0-2f23-4030-93cb-5af85b455424",
   "metadata": {},
   "outputs": [],
   "source": []
  }
 ],
 "metadata": {
  "kernelspec": {
   "display_name": "anaconda-panel-2023.05-py310",
   "language": "python",
   "name": "conda-env-anaconda-panel-2023.05-py310-py"
  },
  "language_info": {
   "codemirror_mode": {
    "name": "ipython",
    "version": 3
   },
   "file_extension": ".py",
   "mimetype": "text/x-python",
   "name": "python",
   "nbconvert_exporter": "python",
   "pygments_lexer": "ipython3",
   "version": "3.11.5"
  }
 },
 "nbformat": 4,
 "nbformat_minor": 5
}

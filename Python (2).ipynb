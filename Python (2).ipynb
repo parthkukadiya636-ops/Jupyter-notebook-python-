{
 "cells": [
  {
   "cell_type": "code",
   "execution_count": 1,
   "id": "a5509992-c916-4504-83ce-e9811ec010bc",
   "metadata": {},
   "outputs": [
    {
     "name": "stdout",
     "output_type": "stream",
     "text": [
      "hello world\n"
     ]
    }
   ],
   "source": [
    "print('hello world')\n"
   ]
  },
  {
   "cell_type": "code",
   "execution_count": 2,
   "id": "dd09616c-6295-47c2-8b11-f19c19ab4705",
   "metadata": {},
   "outputs": [
    {
     "data": {
      "text/plain": [
       "5"
      ]
     },
     "execution_count": 2,
     "metadata": {},
     "output_type": "execute_result"
    }
   ],
   "source": [
    "2+3"
   ]
  },
  {
   "cell_type": "code",
   "execution_count": 17,
   "id": "ee0d55cb-7c7b-441d-a3a9-f13cb575f748",
   "metadata": {},
   "outputs": [
    {
     "name": "stdout",
     "output_type": "stream",
     "text": [
      "parth\n"
     ]
    }
   ],
   "source": [
    "print('parth')"
   ]
  },
  {
   "cell_type": "code",
   "execution_count": 5,
   "id": "5e5496c2-4e77-4011-a4b1-b43ce9338e51",
   "metadata": {},
   "outputs": [
    {
     "name": "stdout",
     "output_type": "stream",
     "text": [
      "25\n"
     ]
    }
   ],
   "source": [
    "x=25\n",
    "print(x)"
   ]
  },
  {
   "cell_type": "code",
   "execution_count": 6,
   "id": "7ffa7c4f-5dd1-4f9a-af92-1e08a5f00ec0",
   "metadata": {},
   "outputs": [
    {
     "name": "stdout",
     "output_type": "stream",
     "text": [
      "25\n"
     ]
    }
   ],
   "source": [
    "a=25\n",
    "print(a)"
   ]
  },
  {
   "cell_type": "code",
   "execution_count": 7,
   "id": "f2546b31-3f51-424d-8288-7d953b564cb1",
   "metadata": {},
   "outputs": [
    {
     "name": "stdout",
     "output_type": "stream",
     "text": [
      "625\n"
     ]
    }
   ],
   "source": [
    "print(x*a)"
   ]
  },
  {
   "cell_type": "code",
   "execution_count": 8,
   "id": "cef5a31d-9204-49a3-b519-1d8523ec4e34",
   "metadata": {},
   "outputs": [
    {
     "name": "stdout",
     "output_type": "stream",
     "text": [
      "99.99\n"
     ]
    },
    {
     "data": {
      "text/plain": [
       "float"
      ]
     },
     "execution_count": 8,
     "metadata": {},
     "output_type": "execute_result"
    }
   ],
   "source": [
    "y=99.99\n",
    "print(y)\n",
    "type(y)"
   ]
  },
  {
   "cell_type": "code",
   "execution_count": 9,
   "id": "30e30fff-bfa7-4941-8dcd-e9a19cebd104",
   "metadata": {},
   "outputs": [
    {
     "name": "stdout",
     "output_type": "stream",
     "text": [
      "25\n"
     ]
    },
    {
     "data": {
      "text/plain": [
       "int"
      ]
     },
     "execution_count": 9,
     "metadata": {},
     "output_type": "execute_result"
    }
   ],
   "source": [
    "x=25\n",
    "print(x)\n",
    "type(x)"
   ]
  },
  {
   "cell_type": "code",
   "execution_count": 10,
   "id": "249ebae5-54e3-474c-90d2-73a7d63bbfd0",
   "metadata": {},
   "outputs": [
    {
     "data": {
      "text/plain": [
       "124.99"
      ]
     },
     "execution_count": 10,
     "metadata": {},
     "output_type": "execute_result"
    }
   ],
   "source": [
    "# addition\n",
    "x+y"
   ]
  },
  {
   "cell_type": "code",
   "execution_count": 11,
   "id": "4a6d73a7-0da4-4f6d-bb7f-77731af26348",
   "metadata": {},
   "outputs": [
    {
     "data": {
      "text/plain": [
       "74.99"
      ]
     },
     "execution_count": 11,
     "metadata": {},
     "output_type": "execute_result"
    }
   ],
   "source": [
    "# substraction\n",
    "y-x"
   ]
  },
  {
   "cell_type": "code",
   "execution_count": 12,
   "id": "985943a3-841a-4e9d-b08f-01003bacec07",
   "metadata": {},
   "outputs": [
    {
     "data": {
      "text/plain": [
       "2499.75"
      ]
     },
     "execution_count": 12,
     "metadata": {},
     "output_type": "execute_result"
    }
   ],
   "source": [
    "x*y"
   ]
  },
  {
   "cell_type": "code",
   "execution_count": 13,
   "id": "fa13b152-b041-44c3-a6e1-82e4cb7c6b60",
   "metadata": {},
   "outputs": [
    {
     "data": {
      "text/plain": [
       "0.25002500250025006"
      ]
     },
     "execution_count": 13,
     "metadata": {},
     "output_type": "execute_result"
    }
   ],
   "source": [
    "x/y"
   ]
  },
  {
   "cell_type": "code",
   "execution_count": 14,
   "id": "4e032f41-b54f-41b3-ba5f-eac8db6017c0",
   "metadata": {},
   "outputs": [
    {
     "name": "stdout",
     "output_type": "stream",
     "text": [
      "1\n"
     ]
    }
   ],
   "source": [
    "print(7%3)"
   ]
  },
  {
   "cell_type": "code",
   "execution_count": 15,
   "id": "1c637ff8-831c-4dff-b585-55b09083f0ff",
   "metadata": {},
   "outputs": [
    {
     "name": "stdout",
     "output_type": "stream",
     "text": [
      "1\n"
     ]
    }
   ],
   "source": [
    "print(7//4)"
   ]
  },
  {
   "cell_type": "code",
   "execution_count": 16,
   "id": "3f9cd704-d6f3-4458-9a73-ee944778e645",
   "metadata": {},
   "outputs": [
    {
     "name": "stdout",
     "output_type": "stream",
     "text": [
      "2\n"
     ]
    }
   ],
   "source": [
    "print(14//5)"
   ]
  },
  {
   "cell_type": "code",
   "execution_count": 18,
   "id": "4aede6ef-a900-4d17-8957-a6a548abba56",
   "metadata": {},
   "outputs": [
    {
     "name": "stdout",
     "output_type": "stream",
     "text": [
      "8\n"
     ]
    }
   ],
   "source": [
    "print(2**3)"
   ]
  },
  {
   "cell_type": "code",
   "execution_count": 19,
   "id": "84d7e1d2-7710-4166-aa65-a1286f6afcde",
   "metadata": {},
   "outputs": [
    {
     "name": "stdout",
     "output_type": "stream",
     "text": [
      "2.0\n"
     ]
    }
   ],
   "source": [
    "print(8**(1/3))"
   ]
  },
  {
   "cell_type": "code",
   "execution_count": 20,
   "id": "f649a47d-e2aa-461d-bf6c-3fa60bc66147",
   "metadata": {},
   "outputs": [
    {
     "name": "stdout",
     "output_type": "stream",
     "text": [
      "69\n"
     ]
    }
   ],
   "source": [
    "print(2+9*10-23)"
   ]
  },
  {
   "cell_type": "code",
   "execution_count": 21,
   "id": "af0dce99-7462-49ab-b4b7-483b4dcfec5b",
   "metadata": {},
   "outputs": [
    {
     "data": {
      "text/plain": [
       "25"
      ]
     },
     "execution_count": 21,
     "metadata": {},
     "output_type": "execute_result"
    }
   ],
   "source": [
    "x"
   ]
  },
  {
   "cell_type": "code",
   "execution_count": 24,
   "id": "e92684c2-7e8d-4254-8ca4-25a177b06d15",
   "metadata": {},
   "outputs": [
    {
     "name": "stdout",
     "output_type": "stream",
     "text": [
      "25.0\n"
     ]
    }
   ],
   "source": [
    "x=float(x)\n",
    "print(x)"
   ]
  },
  {
   "cell_type": "code",
   "execution_count": 25,
   "id": "c34a25ba-dbf6-427d-9edc-72e7d86549fd",
   "metadata": {},
   "outputs": [
    {
     "data": {
      "text/plain": [
       "25.0"
      ]
     },
     "execution_count": 25,
     "metadata": {},
     "output_type": "execute_result"
    }
   ],
   "source": [
    "float(x)"
   ]
  },
  {
   "cell_type": "code",
   "execution_count": 26,
   "id": "d639d82f-464c-4f2d-82a4-4636b4362c99",
   "metadata": {},
   "outputs": [
    {
     "data": {
      "text/plain": [
       "int"
      ]
     },
     "execution_count": 26,
     "metadata": {},
     "output_type": "execute_result"
    }
   ],
   "source": [
    "z=int(25.99)\n",
    "type(z)"
   ]
  },
  {
   "cell_type": "code",
   "execution_count": 28,
   "id": "ce31e87f-954e-4df1-9549-35aa68c5c7fb",
   "metadata": {},
   "outputs": [
    {
     "name": "stdin",
     "output_type": "stream",
     "text": [
      "what is your name? Parth\n"
     ]
    },
    {
     "name": "stdout",
     "output_type": "stream",
     "text": [
      "Parth\n"
     ]
    }
   ],
   "source": [
    "print(input('what is your name?'))"
   ]
  },
  {
   "cell_type": "code",
   "execution_count": 33,
   "id": "f2f62ada-3eb3-49e6-8711-2c2645b85a7c",
   "metadata": {},
   "outputs": [
    {
     "name": "stdin",
     "output_type": "stream",
     "text": [
      "please enter the first number: 15\n",
      "please enter the second number: 7\n"
     ]
    },
    {
     "name": "stdout",
     "output_type": "stream",
     "text": [
      "<class 'float'>\n"
     ]
    },
    {
     "data": {
      "text/plain": [
       "float"
      ]
     },
     "execution_count": 33,
     "metadata": {},
     "output_type": "execute_result"
    }
   ],
   "source": [
    "x=float(input(\"please enter the first number:\"))\n",
    "y=float(input(\"please enter the second number:\"))\n",
    "print(type(x))\n",
    "type(y)\n"
   ]
  },
  {
   "cell_type": "code",
   "execution_count": 37,
   "id": "3c3d0343-2603-4e0f-a301-ce349f9a3341",
   "metadata": {},
   "outputs": [
    {
     "name": "stdout",
     "output_type": "stream",
     "text": [
      "x+y: 22.0\n",
      "x-y: 8.0\n",
      "x*y: 105.0\n",
      "x/y: 2.142857142857143\n",
      "x%y: 1.0\n",
      "x//y: 2.0\n"
     ]
    }
   ],
   "source": [
    "print('x+y:',x+y)\n",
    "print('x-y:',x-y)\n",
    "print('x*y:',x*y)\n",
    "print('x/y:',x/y)\n",
    "print('x%y:',x%y)\n",
    "print('x//y:',x//y)"
   ]
  },
  {
   "cell_type": "code",
   "execution_count": 4,
   "id": "ecf191a2-83ba-4a5d-9f2b-328645b38767",
   "metadata": {},
   "outputs": [
    {
     "name": "stdout",
     "output_type": "stream",
     "text": [
      "x divmod y: (2, 1)\n"
     ]
    }
   ],
   "source": [
    "x=5\n",
    "y=2\n",
    "print('x divmod y:',divmod(x,y))\n",
    "# it is a  function which gives the quotient and the remainder together "
   ]
  },
  {
   "cell_type": "code",
   "execution_count": 5,
   "id": "0ede316b-52af-40f1-8013-faa95e8a8970",
   "metadata": {},
   "outputs": [
    {
     "name": "stdout",
     "output_type": "stream",
     "text": [
      "Help on built-in function pow in module builtins:\n",
      "\n",
      "pow(base, exp, mod=None)\n",
      "    Equivalent to base**exp with 2 arguments or base**exp % mod with 3 arguments\n",
      "    \n",
      "    Some types, such as ints, are able to use a more efficient algorithm when\n",
      "    invoked using the three argument form.\n",
      "\n"
     ]
    }
   ],
   "source": [
    "help(pow)"
   ]
  },
  {
   "cell_type": "code",
   "execution_count": 9,
   "id": "5fb74c1b-1c63-4382-9751-fe2f8a3a6c1b",
   "metadata": {},
   "outputs": [
    {
     "name": "stdout",
     "output_type": "stream",
     "text": [
      "3\n",
      "3.0\n"
     ]
    }
   ],
   "source": [
    "import math\n",
    "a,b,c = 2,3,5\n",
    "print((a**b)%5)\n",
    "print(math.pow(2,3)%5)"
   ]
  },
  {
   "cell_type": "code",
   "execution_count": 17,
   "id": "2d32009e-10fe-41a8-84bd-7cd78686e3dc",
   "metadata": {},
   "outputs": [
    {
     "data": {
      "text/plain": [
       "250000.0"
      ]
     },
     "execution_count": 17,
     "metadata": {},
     "output_type": "execute_result"
    }
   ],
   "source": [
    "# round function\n",
    "round(25215.3658,1)\n",
    "round(254699.129685,3)\n",
    "round(249678.16459,-4)"
   ]
  },
  {
   "cell_type": "code",
   "execution_count": 22,
   "id": "be24ffbd-1705-430d-86bd-176b13849524",
   "metadata": {},
   "outputs": [
    {
     "name": "stdout",
     "output_type": "stream",
     "text": [
      "80000\n",
      "60000\n",
      "80000\n"
     ]
    }
   ],
   "source": [
    "a,b,c= 81521,64521,74569\n",
    "d=20000\n",
    "print(round((a/d))*d)\n",
    "print(round((b/d))*d)\n",
    "print(round((c/d))*d)\n"
   ]
  },
  {
   "cell_type": "code",
   "execution_count": 25,
   "id": "11680689-8050-4b79-8243-3f2bcc853658",
   "metadata": {},
   "outputs": [
    {
     "name": "stdout",
     "output_type": "stream",
     "text": [
      "100000\n",
      "80000\n",
      "80000\n"
     ]
    }
   ],
   "source": [
    "a,b,c= 81521,64521,74569\n",
    "d=20000\n",
    "print(math.ceil(a/d)*d)\n",
    "print(math.ceil(b/d)*d)\n",
    "print(math.ceil(c/d)*d)\n"
   ]
  },
  {
   "cell_type": "code",
   "execution_count": null,
   "id": "986299ce-fc49-4174-94e6-6001a81053d8",
   "metadata": {},
   "outputs": [],
   "source": []
  }
 ],
 "metadata": {
  "kernelspec": {
   "display_name": "anaconda-2024.02-py310",
   "language": "python",
   "name": "conda-env-anaconda-2024.02-py310-py"
  },
  "language_info": {
   "codemirror_mode": {
    "name": "ipython",
    "version": 3
   },
   "file_extension": ".py",
   "mimetype": "text/x-python",
   "name": "python",
   "nbconvert_exporter": "python",
   "pygments_lexer": "ipython3",
   "version": "3.10.14"
  }
 },
 "nbformat": 4,
 "nbformat_minor": 5
}

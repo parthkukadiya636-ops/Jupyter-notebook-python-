{
 "cells": [
  {
   "cell_type": "code",
   "execution_count": 2,
   "id": "49cf523c-76af-4329-bc5d-bf1cd524f4bd",
   "metadata": {},
   "outputs": [
    {
     "name": "stdout",
     "output_type": "stream",
     "text": [
      "Name is: parth\n",
      "Name is: harsh\n",
      "Name is: yug\n"
     ]
    }
   ],
   "source": [
    "student1 =[\"parth\", 18, \"machine learning\"]\n",
    "student2 =[\"harsh\", 18, \"machine learning\"]\n",
    "student3 =[\"yug\", 18, \"machine learning\"]\n",
    "\n",
    "print(\"Name is:\", student1[0])\n",
    "print(\"Name is:\", student2[0])\n",
    "print(\"Name is:\", student3[0])"
   ]
  },
  {
   "cell_type": "markdown",
   "id": "36833c00-7bf9-4683-a6e4-aa6f39d4e98d",
   "metadata": {},
   "source": [
    "## creating class"
   ]
  },
  {
   "cell_type": "code",
   "execution_count": 3,
   "id": "0d83d134-6a36-49f1-b93a-6ad64c3483cc",
   "metadata": {},
   "outputs": [],
   "source": [
    "class Student:\n",
    "    name = \"karan\""
   ]
  },
  {
   "cell_type": "markdown",
   "id": "0738ff77-0ec6-445b-98f1-5a8921db051a",
   "metadata": {},
   "source": [
    "## creting object"
   ]
  },
  {
   "cell_type": "code",
   "execution_count": 5,
   "id": "3f8130be-50e1-4fdf-9e3b-e048dfc1e711",
   "metadata": {},
   "outputs": [
    {
     "name": "stdout",
     "output_type": "stream",
     "text": [
      "karan\n",
      "karan\n"
     ]
    }
   ],
   "source": [
    "s1 = Student()\n",
    "print(s1.name)\n",
    "s2 = Student()\n",
    "print(s2.name)"
   ]
  },
  {
   "cell_type": "markdown",
   "id": "c239f3a6-1531-41b7-8859-88eb33fc2472",
   "metadata": {},
   "source": [
    "## Parameterize constructor"
   ]
  },
  {
   "cell_type": "code",
   "execution_count": 10,
   "id": "5eadc706-4cba-4df8-846a-3e49bc86c66d",
   "metadata": {},
   "outputs": [
    {
     "name": "stdout",
     "output_type": "stream",
     "text": [
      "adding new student to database\n",
      "Parth\n",
      "18\n",
      "BVM\n",
      "adding new student to database\n",
      "krishna\n",
      "19\n",
      "BVM\n"
     ]
    }
   ],
   "source": [
    "class Student:\n",
    "\n",
    "    college = \"BVM\"\n",
    "\n",
    "    \n",
    "    def __init__(self,fullname,age):\n",
    "        self.name = fullname # obj attribute> class attribute\n",
    "        self.age = age\n",
    "        print(\"adding new student to database\")\n",
    "        print(self.name)\n",
    "        print(self.age)\n",
    "\n",
    "s1 = Student(\"Parth\",18)   \n",
    "print(Student.college)\n",
    "s2 = Student(\"krishna\",19)\n",
    "print(Student.college)"
   ]
  },
  {
   "cell_type": "markdown",
   "id": "bf864590-32ef-42cc-8a41-5112eb86f289",
   "metadata": {},
   "source": [
    "## Default constructor"
   ]
  },
  {
   "cell_type": "code",
   "execution_count": null,
   "id": "28d8d3f0-44a5-4c7c-89ec-ea775e850fb8",
   "metadata": {},
   "outputs": [],
   "source": [
    "class Student:\n",
    "    def __init__(self):\n",
    "        pass\n",
    "\n",
    "s1 = Student()"
   ]
  }
 ],
 "metadata": {
  "kernelspec": {
   "display_name": "anaconda-2024.02-py310",
   "language": "python",
   "name": "conda-env-anaconda-2024.02-py310-py"
  },
  "language_info": {
   "codemirror_mode": {
    "name": "ipython",
    "version": 3
   },
   "file_extension": ".py",
   "mimetype": "text/x-python",
   "name": "python",
   "nbconvert_exporter": "python",
   "pygments_lexer": "ipython3",
   "version": "3.10.14"
  }
 },
 "nbformat": 4,
 "nbformat_minor": 5
}

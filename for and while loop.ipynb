{
 "cells": [
  {
   "cell_type": "markdown",
   "id": "8dd5a561-ba60-456d-9c68-d6c9885c8386",
   "metadata": {},
   "source": [
    "## for loop"
   ]
  },
  {
   "cell_type": "code",
   "execution_count": 7,
   "id": "0f22a8c9-96d1-4ddf-9eb4-15e82eaebe96",
   "metadata": {},
   "outputs": [],
   "source": [
    "names= ['Parth','Berlin','Tokyo','Nensa','John']"
   ]
  },
  {
   "cell_type": "code",
   "execution_count": 8,
   "id": "e2ef0c9b-1d7e-461e-9cb7-101968b1fbb1",
   "metadata": {},
   "outputs": [
    {
     "name": "stdout",
     "output_type": "stream",
     "text": [
      "hello Parth\n",
      "hello Berlin\n",
      "hello Tokyo\n",
      "hello Nensa\n",
      "hello John\n"
     ]
    }
   ],
   "source": [
    "for name in names:\n",
    "    print('hello ' +name)"
   ]
  },
  {
   "cell_type": "markdown",
   "id": "2a07a3bd-183d-4adf-a62e-10453307880b",
   "metadata": {},
   "source": [
    "## In string"
   ]
  },
  {
   "cell_type": "code",
   "execution_count": 28,
   "id": "fefc5c21-42d4-43f7-b59b-36a23057859b",
   "metadata": {},
   "outputs": [
    {
     "name": "stdout",
     "output_type": "stream",
     "text": [
      "M7\n",
      "0\n",
      "P\n",
      "a\n",
      "r\n",
      "t\n",
      "h\n",
      "y7\n",
      "1\n",
      "P\n",
      "a\n",
      "r\n",
      "t\n",
      "h\n",
      "n7\n",
      "2\n",
      "P\n",
      "a\n",
      "r\n",
      "t\n",
      "h\n",
      "a7\n",
      "3\n"
     ]
    }
   ],
   "source": [
    "count = 0\n",
    "for char in 'Myname':\n",
    "    print(char + '7')\n",
    "    print(count)\n",
    "    count = count +1\n",
    "    if count>3:\n",
    "        break\n",
    "    for i in 'Parth':\n",
    "        print(i)"
   ]
  },
  {
   "cell_type": "markdown",
   "id": "ee20a562-6fc3-4a63-8988-5715cd3dec01",
   "metadata": {},
   "source": [
    "## In range"
   ]
  },
  {
   "cell_type": "code",
   "execution_count": 14,
   "id": "81c142bf-38f9-48bf-953b-f6478a011454",
   "metadata": {},
   "outputs": [
    {
     "name": "stdout",
     "output_type": "stream",
     "text": [
      "0\n",
      "1\n",
      "2\n",
      "3\n",
      "4\n"
     ]
    }
   ],
   "source": [
    "for val in range(5):\n",
    "    print(val)"
   ]
  },
  {
   "cell_type": "code",
   "execution_count": 15,
   "id": "760b5a4e-9560-4335-8733-4c5269ab3a08",
   "metadata": {},
   "outputs": [
    {
     "name": "stdout",
     "output_type": "stream",
     "text": [
      "20\n",
      "22\n",
      "24\n",
      "26\n",
      "28\n"
     ]
    }
   ],
   "source": [
    "for val in range(20,30,2):\n",
    "    print(val)"
   ]
  },
  {
   "cell_type": "markdown",
   "id": "03e5032f-73d4-4b94-ba8a-f8117c7abcc4",
   "metadata": {},
   "source": [
    "## while loop"
   ]
  },
  {
   "cell_type": "code",
   "execution_count": 34,
   "id": "9667be32-2190-4f61-b4c5-110eb6a738d2",
   "metadata": {},
   "outputs": [
    {
     "name": "stdout",
     "output_type": "stream",
     "text": [
      "0\n",
      "1\n",
      "2\n"
     ]
    }
   ],
   "source": [
    "count =0\n",
    "while count<5:\n",
    "    print(count)\n",
    "    count  = count +1\n",
    "    if count == 3:\n",
    "        break\n",
    "else:\n",
    "    print('the number is>=5')"
   ]
  },
  {
   "cell_type": "code",
   "execution_count": 38,
   "id": "33fdec3c-4e82-480e-b625-d1b9dfda9e77",
   "metadata": {},
   "outputs": [
    {
     "name": "stdout",
     "output_type": "stream",
     "text": [
      "0\n",
      "1\n",
      "2\n",
      "3\n",
      "4\n",
      "the number is>=5\n"
     ]
    }
   ],
   "source": [
    "count =0\n",
    "while count<5:\n",
    "    print(count)\n",
    "    count  = count +1\n",
    "else:\n",
    "    print('the number is>=5')"
   ]
  },
  {
   "cell_type": "code",
   "execution_count": null,
   "id": "dc257343-d62c-4a3a-a7af-f49b99d142a3",
   "metadata": {},
   "outputs": [],
   "source": []
  }
 ],
 "metadata": {
  "kernelspec": {
   "display_name": "anaconda-panel-2023.05-py310",
   "language": "python",
   "name": "conda-env-anaconda-panel-2023.05-py310-py"
  },
  "language_info": {
   "codemirror_mode": {
    "name": "ipython",
    "version": 3
   },
   "file_extension": ".py",
   "mimetype": "text/x-python",
   "name": "python",
   "nbconvert_exporter": "python",
   "pygments_lexer": "ipython3",
   "version": "3.11.5"
  }
 },
 "nbformat": 4,
 "nbformat_minor": 5
}

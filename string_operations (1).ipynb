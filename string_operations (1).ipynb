{
 "cells": [
  {
   "cell_type": "markdown",
   "id": "92b42f4f-65fe-4c43-acee-dc5bd4e1eee4",
   "metadata": {},
   "source": [
    "# STRING CREATION\n"
   ]
  },
  {
   "cell_type": "code",
   "execution_count": 12,
   "id": "cf1a946c-fb66-4bd6-9d8a-1c4198d034d4",
   "metadata": {},
   "outputs": [
    {
     "data": {
      "text/plain": [
       "'a'"
      ]
     },
     "execution_count": 12,
     "metadata": {},
     "output_type": "execute_result"
    }
   ],
   "source": [
    "'a'"
   ]
  },
  {
   "cell_type": "code",
   "execution_count": 2,
   "id": "83fa6b8a-0662-4f17-9742-c7186955efc2",
   "metadata": {},
   "outputs": [
    {
     "data": {
      "text/plain": [
       "'word'"
      ]
     },
     "execution_count": 2,
     "metadata": {},
     "output_type": "execute_result"
    }
   ],
   "source": [
    "'word'"
   ]
  },
  {
   "cell_type": "code",
   "execution_count": 3,
   "id": "6f86f9bf-74ff-4f68-8fa6-68e4a2c7cffa",
   "metadata": {},
   "outputs": [
    {
     "data": {
      "text/plain": [
       "'my name is parth kukadiya'"
      ]
     },
     "execution_count": 3,
     "metadata": {},
     "output_type": "execute_result"
    }
   ],
   "source": [
    "\"my name is parth kukadiya\""
   ]
  },
  {
   "cell_type": "code",
   "execution_count": 10,
   "id": "3b0012bc-6863-4001-b7aa-c6cd92011e0e",
   "metadata": {},
   "outputs": [],
   "source": [
    "x='''my name is \n",
    "parth kukadiya'''"
   ]
  },
  {
   "cell_type": "code",
   "execution_count": 11,
   "id": "3ec6ec8e-ac6d-469a-8341-46ca863fa948",
   "metadata": {},
   "outputs": [
    {
     "name": "stdout",
     "output_type": "stream",
     "text": [
      "my name is \n",
      "parth kukadiya\n"
     ]
    }
   ],
   "source": [
    "print(x)"
   ]
  },
  {
   "cell_type": "markdown",
   "id": "255640c6-5878-45b1-84d0-ff16d7f77edd",
   "metadata": {},
   "source": [
    "## string concatenate"
   ]
  },
  {
   "cell_type": "code",
   "execution_count": 25,
   "id": "5e5bf3da-5a09-438f-ad32-529f87db6c7d",
   "metadata": {},
   "outputs": [
    {
     "name": "stdout",
     "output_type": "stream",
     "text": [
      "my name is parth kukadiya,I have persued information technology.\n"
     ]
    }
   ],
   "source": [
    "x='my name is parth kukadiya,'\n",
    "y= 'I have persued information technology.'\n",
    "z=x+y\n",
    "print(z)"
   ]
  },
  {
   "cell_type": "code",
   "execution_count": 27,
   "id": "62edcd59-0b6d-4a94-a01f-f4ea05674661",
   "metadata": {},
   "outputs": [
    {
     "name": "stdout",
     "output_type": "stream",
     "text": [
      "parth kukadiya\n"
     ]
    }
   ],
   "source": [
    "x='parth'\n",
    "print(x+' kukadiya')"
   ]
  },
  {
   "cell_type": "code",
   "execution_count": 29,
   "id": "06e887c0-a641-4310-9e03-58086ec47c90",
   "metadata": {},
   "outputs": [
    {
     "name": "stdout",
     "output_type": "stream",
     "text": [
      "11\n",
      "29\n"
     ]
    }
   ],
   "source": [
    "print(2+9)\n",
    "print('2'+'9')"
   ]
  },
  {
   "cell_type": "markdown",
   "id": "e9499fe6-5b39-44f8-b4f6-6e09b41f093a",
   "metadata": {},
   "source": [
    "## split string"
   ]
  },
  {
   "cell_type": "code",
   "execution_count": 44,
   "id": "b8f54853-e2b7-4f0e-84aa-44484db81de5",
   "metadata": {},
   "outputs": [
    {
     "data": {
      "text/plain": [
       "['my',\n",
       " 'name',\n",
       " 'is',\n",
       " 'parth',\n",
       " 'kuakdiya,',\n",
       " 'I',\n",
       " 'am',\n",
       " 'currently',\n",
       " 'persuing',\n",
       " 'information',\n",
       " 'technology']"
      ]
     },
     "execution_count": 44,
     "metadata": {},
     "output_type": "execute_result"
    }
   ],
   "source": [
    "x= 'my name is parth kuakdiya, I am currently persuing information technology'\n",
    "x.split()\n"
   ]
  },
  {
   "cell_type": "markdown",
   "id": "ffc9db33-99e3-4a1b-94c6-fc7662a2b63e",
   "metadata": {},
   "source": [
    "### strip string"
   ]
  },
  {
   "cell_type": "code",
   "execution_count": 39,
   "id": "787c8238-144b-4821-9ff8-2f3995fca773",
   "metadata": {},
   "outputs": [
    {
     "name": "stdout",
     "output_type": "stream",
     "text": [
      "parth kukadiya\n"
     ]
    }
   ],
   "source": [
    "x='bbbbbbbbbparth kukadiyabbbbbbbbb'\n",
    "print(x.strip('b'))"
   ]
  },
  {
   "cell_type": "markdown",
   "id": "a4c3aac7-3f14-47d2-89ad-75bbad456547",
   "metadata": {},
   "source": [
    "## replace string"
   ]
  },
  {
   "cell_type": "code",
   "execution_count": 41,
   "id": "cf2c19b8-1050-4256-a0ba-37681eefaf1a",
   "metadata": {},
   "outputs": [
    {
     "name": "stdout",
     "output_type": "stream",
     "text": [
      "parth kukadiya\n"
     ]
    }
   ],
   "source": [
    "x='krish kukadiya'\n",
    "print(x.replace('kukadiya','parth'))"
   ]
  },
  {
   "cell_type": "code",
   "execution_count": 45,
   "id": "fd68e0c1-030b-45bc-be11-b913c573e1d5",
   "metadata": {},
   "outputs": [
    {
     "name": "stdout",
     "output_type": "stream",
     "text": [
      "pbrth kubkdiyb\n"
     ]
    }
   ],
   "source": [
    "x = 'parth kuakdiya'\n",
    "print(x.replace('a','b'))"
   ]
  },
  {
   "cell_type": "markdown",
   "id": "16945714-2884-4483-8568-56457b6d544a",
   "metadata": {},
   "source": [
    "## case"
   ]
  },
  {
   "cell_type": "code",
   "execution_count": 46,
   "id": "3dda9455-f4cb-448f-a9a0-106c207d3da9",
   "metadata": {},
   "outputs": [
    {
     "name": "stdout",
     "output_type": "stream",
     "text": [
      "14\n"
     ]
    }
   ],
   "source": [
    "x= 'parth kukadiya'\n",
    "print(len(x))"
   ]
  },
  {
   "cell_type": "code",
   "execution_count": 47,
   "id": "03ecdbfe-8914-47a2-ab71-f9b6885420cc",
   "metadata": {},
   "outputs": [
    {
     "name": "stdout",
     "output_type": "stream",
     "text": [
      "PARTH KUKADIYA\n"
     ]
    }
   ],
   "source": [
    "x = x.upper()\n",
    "print(x)"
   ]
  },
  {
   "cell_type": "code",
   "execution_count": 48,
   "id": "3346e5a8-ae4d-4faf-8399-082dc34c0ba0",
   "metadata": {},
   "outputs": [
    {
     "name": "stdout",
     "output_type": "stream",
     "text": [
      "parth kukadiya\n"
     ]
    }
   ],
   "source": [
    "x= x.lower()\n",
    "print(x)"
   ]
  },
  {
   "cell_type": "code",
   "execution_count": 49,
   "id": "2ffd608c-6d07-4909-8367-3b731383bed8",
   "metadata": {},
   "outputs": [
    {
     "name": "stdout",
     "output_type": "stream",
     "text": [
      "Parth kukadiya\n"
     ]
    }
   ],
   "source": [
    "x= x.capitalize()\n",
    "print(x)"
   ]
  },
  {
   "cell_type": "code",
   "execution_count": 51,
   "id": "4d329c4b-8e25-4c6f-9e40-1df3f9825be0",
   "metadata": {},
   "outputs": [
    {
     "name": "stdout",
     "output_type": "stream",
     "text": [
      "my name is parth kuakdiya i am currenty persuing information technology\n"
     ]
    }
   ],
   "source": [
    "x= 'my name is parth kuakdiya'\n",
    "y=' i am currenty persuing information technology'\n",
    "print(x+y)"
   ]
  },
  {
   "cell_type": "code",
   "execution_count": 57,
   "id": "fc5dd40c-9114-4490-9eb1-73eb2144d845",
   "metadata": {},
   "outputs": [
    {
     "name": "stdout",
     "output_type": "stream",
     "text": [
      "this is a sentence,my name is parth ,i am persuing information technology...hello everyone\n"
     ]
    }
   ],
   "source": [
    "print('this is a sentence,my name is {} ,i am persuing {}...hello everyone'.format('parth','information technology'))"
   ]
  },
  {
   "cell_type": "markdown",
   "id": "6ba32323-46a5-4314-b17b-d1722ef91852",
   "metadata": {},
   "source": [
    "## Or"
   ]
  },
  {
   "cell_type": "code",
   "execution_count": 58,
   "id": "50a2452d-304a-4130-a5ab-87ec2bee23cd",
   "metadata": {},
   "outputs": [
    {
     "name": "stdout",
     "output_type": "stream",
     "text": [
      "this is a sentence,my name is parth ,i am persuing information technology...hello everyone\n"
     ]
    }
   ],
   "source": [
    "print('this is a sentence,my name is {0} ,i am persuing {1}...hello everyone'.format('parth','information technology'))"
   ]
  },
  {
   "cell_type": "code",
   "execution_count": null,
   "id": "eeccbbb8-3856-46f0-8d78-6ca2d79bc3be",
   "metadata": {},
   "outputs": [],
   "source": []
  }
 ],
 "metadata": {
  "kernelspec": {
   "display_name": "anaconda-2024.02-py310",
   "language": "python",
   "name": "conda-env-anaconda-2024.02-py310-py"
  },
  "language_info": {
   "codemirror_mode": {
    "name": "ipython",
    "version": 3
   },
   "file_extension": ".py",
   "mimetype": "text/x-python",
   "name": "python",
   "nbconvert_exporter": "python",
   "pygments_lexer": "ipython3",
   "version": "3.10.14"
  }
 },
 "nbformat": 4,
 "nbformat_minor": 5
}

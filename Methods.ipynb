{
 "cells": [
  {
   "cell_type": "code",
   "execution_count": 5,
   "id": "5383ffe1-2e13-443d-aa14-c11fef470629",
   "metadata": {},
   "outputs": [
    {
     "name": "stdout",
     "output_type": "stream",
     "text": [
      "Parth\n",
      "98\n"
     ]
    }
   ],
   "source": [
    "class Student:\n",
    "\n",
    "    def __init__(self,name,marks):\n",
    "        self.fullname = name\n",
    "        self.mark = marks\n",
    "\n",
    "    def hello(self):\n",
    "            print(self.fullname)\n",
    "            print(self.mark)\n",
    "        \n",
    "s1 = Student(\"Parth\", 98)\n",
    "s1.hello()\n",
    "\n"
   ]
  },
  {
   "cell_type": "markdown",
   "id": "2d294dc4-c413-4cfb-a1c1-94770cf242db",
   "metadata": {},
   "source": [
    "## Pillars\n"
   ]
  },
  {
   "cell_type": "markdown",
   "id": "ccb3a49a-b57c-4567-8ee8-f3adf8ee2459",
   "metadata": {},
   "source": [
    "### 1. Abstraction \n",
    "#### hiding of data from the user is called Abstraction"
   ]
  },
  {
   "cell_type": "code",
   "execution_count": 7,
   "id": "0342a524-4ed8-4bef-8d45-a3edfa4f2d21",
   "metadata": {},
   "outputs": [
    {
     "name": "stdout",
     "output_type": "stream",
     "text": [
      "car started..\n"
     ]
    }
   ],
   "source": [
    "class Car:\n",
    "    def __init__(self):\n",
    "        self.acc = False\n",
    "        self.brk = False\n",
    "        self.clutch = False\n",
    "\n",
    "\n",
    "    def Start(self):\n",
    "        self.acc = True\n",
    "        self.clutch = True\n",
    "        print(\"car started..\")\n",
    "\n",
    "car1 = Car()\n",
    "car1.Start()\n",
    "        "
   ]
  },
  {
   "cell_type": "markdown",
   "id": "5e401aac-40cf-4d5c-9657-3155b1089e7e",
   "metadata": {},
   "source": [
    "## 2.Encapsulation"
   ]
  },
  {
   "cell_type": "markdown",
   "id": "bf7f9beb-bd33-49b7-aa58-4787ece1c49b",
   "metadata": {},
   "source": [
    "### it is same all the attribute a"
   ]
  }
 ],
 "metadata": {
  "kernelspec": {
   "display_name": "anaconda-2024.02-py310",
   "language": "python",
   "name": "conda-env-anaconda-2024.02-py310-py"
  },
  "language_info": {
   "codemirror_mode": {
    "name": "ipython",
    "version": 3
   },
   "file_extension": ".py",
   "mimetype": "text/x-python",
   "name": "python",
   "nbconvert_exporter": "python",
   "pygments_lexer": "ipython3",
   "version": "3.10.14"
  }
 },
 "nbformat": 4,
 "nbformat_minor": 5
}

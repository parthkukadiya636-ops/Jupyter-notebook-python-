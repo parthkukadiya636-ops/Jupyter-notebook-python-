{
 "cells": [
  {
   "cell_type": "code",
   "execution_count": 5,
   "id": "d8e873a7-266b-432b-9874-5ca48ae2e670",
   "metadata": {},
   "outputs": [
    {
     "name": "stdout",
     "output_type": "stream",
     "text": [
      "hello and good morning to the world\n"
     ]
    }
   ],
   "source": [
    "x = 'hello and good morning to the world'\n",
    "print(x)"
   ]
  },
  {
   "cell_type": "code",
   "execution_count": 6,
   "id": "ceff3597-463e-47da-80ae-d0251f70c08f",
   "metadata": {},
   "outputs": [
    {
     "data": {
      "text/plain": [
       "'e'"
      ]
     },
     "execution_count": 6,
     "metadata": {},
     "output_type": "execute_result"
    }
   ],
   "source": [
    "x[1]"
   ]
  },
  {
   "cell_type": "code",
   "execution_count": 7,
   "id": "f3772227-7d20-477f-8d1b-1cd69036abaa",
   "metadata": {},
   "outputs": [
    {
     "data": {
      "text/plain": [
       "'hello and good morning to the world'"
      ]
     },
     "execution_count": 7,
     "metadata": {},
     "output_type": "execute_result"
    }
   ],
   "source": [
    "x"
   ]
  },
  {
   "cell_type": "code",
   "execution_count": 8,
   "id": "c0a5b20b-5e66-4a52-bb5d-820fc605441a",
   "metadata": {},
   "outputs": [
    {
     "data": {
      "text/plain": [
       "' '"
      ]
     },
     "execution_count": 8,
     "metadata": {},
     "output_type": "execute_result"
    }
   ],
   "source": [
    "x[5]"
   ]
  },
  {
   "cell_type": "code",
   "execution_count": 9,
   "id": "59988ce2-2a75-47b3-abc1-5fb53708cfd1",
   "metadata": {},
   "outputs": [
    {
     "data": {
      "text/plain": [
       "'lo'"
      ]
     },
     "execution_count": 9,
     "metadata": {},
     "output_type": "execute_result"
    }
   ],
   "source": [
    "x[3:5]"
   ]
  },
  {
   "cell_type": "code",
   "execution_count": 12,
   "id": "2fd798d5-17e8-4924-95aa-8796b3d8c8f9",
   "metadata": {},
   "outputs": [
    {
     "data": {
      "text/plain": [
       "'lo an'"
      ]
     },
     "execution_count": 12,
     "metadata": {},
     "output_type": "execute_result"
    }
   ],
   "source": [
    "x[3:8]"
   ]
  },
  {
   "cell_type": "code",
   "execution_count": 13,
   "id": "dfdd29ae-1e1a-4447-9448-920be546dec6",
   "metadata": {},
   "outputs": [
    {
     "data": {
      "text/plain": [
       "'hello and good morning to the world'"
      ]
     },
     "execution_count": 13,
     "metadata": {},
     "output_type": "execute_result"
    }
   ],
   "source": [
    "x[:]"
   ]
  },
  {
   "cell_type": "code",
   "execution_count": 14,
   "id": "81de426e-8f90-4e0c-96c3-6df743bca687",
   "metadata": {},
   "outputs": [
    {
     "data": {
      "text/plain": [
       "'o and good morning to the world'"
      ]
     },
     "execution_count": 14,
     "metadata": {},
     "output_type": "execute_result"
    }
   ],
   "source": [
    "x[4:]"
   ]
  },
  {
   "cell_type": "code",
   "execution_count": 16,
   "id": "19eb67d5-827e-4bee-bc21-3be54353147b",
   "metadata": {},
   "outputs": [
    {
     "data": {
      "text/plain": [
       "'hello and'"
      ]
     },
     "execution_count": 16,
     "metadata": {},
     "output_type": "execute_result"
    }
   ],
   "source": [
    "x[:9]"
   ]
  },
  {
   "cell_type": "code",
   "execution_count": 17,
   "id": "c91ea88c-5710-4fe3-9ab9-efe7350e4792",
   "metadata": {},
   "outputs": [
    {
     "data": {
      "text/plain": [
       "'el n o'"
      ]
     },
     "execution_count": 17,
     "metadata": {},
     "output_type": "execute_result"
    }
   ],
   "source": [
    "x[1:12:2]"
   ]
  },
  {
   "cell_type": "code",
   "execution_count": 18,
   "id": "d1e6bc92-2122-4ccd-afd1-03fcbbef036d",
   "metadata": {},
   "outputs": [
    {
     "data": {
      "text/plain": [
       "'hloadgo onn otewrd'"
      ]
     },
     "execution_count": 18,
     "metadata": {},
     "output_type": "execute_result"
    }
   ],
   "source": [
    "x[::2]"
   ]
  },
  {
   "cell_type": "code",
   "execution_count": 19,
   "id": "16ad0827-c031-4aaa-b405-8fd318479ed0",
   "metadata": {},
   "outputs": [
    {
     "data": {
      "text/plain": [
       "'dlrow eht ot gninrom doog dna olleh'"
      ]
     },
     "execution_count": 19,
     "metadata": {},
     "output_type": "execute_result"
    }
   ],
   "source": [
    "x[::-1]"
   ]
  },
  {
   "cell_type": "code",
   "execution_count": 29,
   "id": "257e69ea-004f-4c42-88b7-82797103efda",
   "metadata": {},
   "outputs": [
    {
     "data": {
      "text/plain": [
       "'lrow eht o'"
      ]
     },
     "execution_count": 29,
     "metadata": {},
     "output_type": "execute_result"
    }
   ],
   "source": [
    "x[-2:-12:-1]"
   ]
  },
  {
   "cell_type": "markdown",
   "id": "e69bf09a-ae8f-40d3-9aa8-20558076f8f6",
   "metadata": {},
   "source": []
  }
 ],
 "metadata": {
  "kernelspec": {
   "display_name": "anaconda-2024.02-py310",
   "language": "python",
   "name": "conda-env-anaconda-2024.02-py310-py"
  },
  "language_info": {
   "codemirror_mode": {
    "name": "ipython",
    "version": 3
   },
   "file_extension": ".py",
   "mimetype": "text/x-python",
   "name": "python",
   "nbconvert_exporter": "python",
   "pygments_lexer": "ipython3",
   "version": "3.10.14"
  }
 },
 "nbformat": 4,
 "nbformat_minor": 5
}

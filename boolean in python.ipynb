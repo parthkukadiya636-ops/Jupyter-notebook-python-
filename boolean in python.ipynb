{
 "cells": [
  {
   "cell_type": "markdown",
   "id": "7d128074-91d5-4d0c-8fa9-10e7e8f9c4b0",
   "metadata": {},
   "source": [
    "### boolean\n",
    "#### True , False , None"
   ]
  },
  {
   "cell_type": "code",
   "execution_count": 1,
   "id": "e3af1f7e-3e10-46a7-baad-d2bea5c1e6e6",
   "metadata": {},
   "outputs": [
    {
     "data": {
      "text/plain": [
       "False"
      ]
     },
     "execution_count": 1,
     "metadata": {},
     "output_type": "execute_result"
    }
   ],
   "source": [
    "2>7"
   ]
  },
  {
   "cell_type": "code",
   "execution_count": 2,
   "id": "e7325f86-84a9-405e-8240-d7ff494b2ae8",
   "metadata": {},
   "outputs": [
    {
     "data": {
      "text/plain": [
       "True"
      ]
     },
     "execution_count": 2,
     "metadata": {},
     "output_type": "execute_result"
    }
   ],
   "source": [
    "5<7"
   ]
  },
  {
   "cell_type": "code",
   "execution_count": null,
   "id": "587972c2-fad8-4fa4-90d6-1ba0f3c5dddf",
   "metadata": {},
   "outputs": [],
   "source": [
    "# >, < ,<= , >= , ~="
   ]
  },
  {
   "cell_type": "code",
   "execution_count": 3,
   "id": "cafdc40e-0453-441d-a98e-bb39e2807c96",
   "metadata": {},
   "outputs": [
    {
     "data": {
      "text/plain": [
       "True"
      ]
     },
     "execution_count": 3,
     "metadata": {},
     "output_type": "execute_result"
    }
   ],
   "source": [
    "bool(7)"
   ]
  },
  {
   "cell_type": "code",
   "execution_count": 7,
   "id": "07d93af7-a88e-4d1e-8415-c6dc6625b135",
   "metadata": {},
   "outputs": [
    {
     "data": {
      "text/plain": [
       "False"
      ]
     },
     "execution_count": 7,
     "metadata": {},
     "output_type": "execute_result"
    }
   ],
   "source": [
    "bool(0)\n",
    "bool(None)"
   ]
  },
  {
   "cell_type": "code",
   "execution_count": 9,
   "id": "25facdc8-83b2-424c-90c5-6cdeb012414f",
   "metadata": {},
   "outputs": [
    {
     "data": {
      "text/plain": [
       "True"
      ]
     },
     "execution_count": 9,
     "metadata": {},
     "output_type": "execute_result"
    }
   ],
   "source": [
    "str = 'parth'\n",
    "str1 = 'Parth'\n",
    "str>str1"
   ]
  },
  {
   "cell_type": "code",
   "execution_count": 11,
   "id": "cfb8b28b-f49f-4ab8-b405-13fd885f1e7b",
   "metadata": {},
   "outputs": [
    {
     "data": {
      "text/plain": [
       "False"
      ]
     },
     "execution_count": 11,
     "metadata": {},
     "output_type": "execute_result"
    }
   ],
   "source": [
    "str == str1"
   ]
  },
  {
   "cell_type": "code",
   "execution_count": 15,
   "id": "3672a120-1d56-429d-b8fb-1ce053192201",
   "metadata": {},
   "outputs": [
    {
     "data": {
      "text/plain": [
       "True"
      ]
     },
     "execution_count": 15,
     "metadata": {},
     "output_type": "execute_result"
    }
   ],
   "source": [
    "2<5 and 5<7 # 2<5 & 5<7"
   ]
  },
  {
   "cell_type": "code",
   "execution_count": 14,
   "id": "c27730bd-5850-45fb-afef-b844a10e9d97",
   "metadata": {},
   "outputs": [
    {
     "data": {
      "text/plain": [
       "True"
      ]
     },
     "execution_count": 14,
     "metadata": {},
     "output_type": "execute_result"
    }
   ],
   "source": [
    "2<5 or 5>7"
   ]
  },
  {
   "cell_type": "code",
   "execution_count": null,
   "id": "4afd1d63-ab2c-483d-8705-dd6c1b87a9be",
   "metadata": {},
   "outputs": [],
   "source": []
  }
 ],
 "metadata": {
  "kernelspec": {
   "display_name": "anaconda-2024.02-py310",
   "language": "python",
   "name": "conda-env-anaconda-2024.02-py310-py"
  },
  "language_info": {
   "codemirror_mode": {
    "name": "ipython",
    "version": 3
   },
   "file_extension": ".py",
   "mimetype": "text/x-python",
   "name": "python",
   "nbconvert_exporter": "python",
   "pygments_lexer": "ipython3",
   "version": "3.10.14"
  }
 },
 "nbformat": 4,
 "nbformat_minor": 5
}

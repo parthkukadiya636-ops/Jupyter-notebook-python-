{
 "cells": [
  {
   "cell_type": "markdown",
   "id": "d884dd93-b7f1-44d5-b6be-a8ca6adb6e9e",
   "metadata": {},
   "source": [
    "## string imutable"
   ]
  },
  {
   "cell_type": "code",
   "execution_count": 2,
   "id": "f2477bf7-5ded-4fe9-9fcf-153a6dd41043",
   "metadata": {},
   "outputs": [
    {
     "name": "stdout",
     "output_type": "stream",
     "text": [
      "parth kukadiya\n"
     ]
    }
   ],
   "source": [
    "x= \"parth kukadiya\"\n",
    "print(x)"
   ]
  },
  {
   "cell_type": "code",
   "execution_count": 3,
   "id": "6e7d2550-a1dc-4a02-8236-7a8a3ccee5ec",
   "metadata": {},
   "outputs": [
    {
     "name": "stdout",
     "output_type": "stream",
     "text": [
      "[1, 2, 'ad', 'parth', 'a']\n"
     ]
    }
   ],
   "source": [
    "lst1 = [1,2,'ad', 'parth','a']\n",
    "print(lst1)"
   ]
  },
  {
   "cell_type": "code",
   "execution_count": 5,
   "id": "b5be2810-0a30-4f9d-80aa-8720fd17d84e",
   "metadata": {},
   "outputs": [
    {
     "data": {
      "text/plain": [
       "2"
      ]
     },
     "execution_count": 5,
     "metadata": {},
     "output_type": "execute_result"
    }
   ],
   "source": [
    "lst1[1]"
   ]
  },
  {
   "cell_type": "code",
   "execution_count": 6,
   "id": "4bf92a9f-8e24-4a12-8175-701d6eaafa80",
   "metadata": {},
   "outputs": [
    {
     "data": {
      "text/plain": [
       "'parth'"
      ]
     },
     "execution_count": 6,
     "metadata": {},
     "output_type": "execute_result"
    }
   ],
   "source": [
    "lst1[-2]"
   ]
  },
  {
   "cell_type": "code",
   "execution_count": 7,
   "id": "28bf3067-6c63-4e8c-afee-72bcafde5b41",
   "metadata": {},
   "outputs": [
    {
     "data": {
      "text/plain": [
       "5"
      ]
     },
     "execution_count": 7,
     "metadata": {},
     "output_type": "execute_result"
    }
   ],
   "source": [
    "len(lst1)"
   ]
  },
  {
   "cell_type": "code",
   "execution_count": 9,
   "id": "ffefb671-159f-4b6e-8aa9-181d0779f5ca",
   "metadata": {},
   "outputs": [
    {
     "data": {
      "text/plain": [
       "[2, 'ad', 'parth']"
      ]
     },
     "execution_count": 9,
     "metadata": {},
     "output_type": "execute_result"
    }
   ],
   "source": [
    "lst1[1:4]"
   ]
  },
  {
   "cell_type": "markdown",
   "id": "31912ec6-a010-483b-9d4f-e58c3cba4dc5",
   "metadata": {},
   "source": [
    "## 3.adding objects to list\n",
    "      1.(+)operator\n",
    "      2.append(object)\n",
    "      3.extend(list)"
   ]
  },
  {
   "cell_type": "code",
   "execution_count": 11,
   "id": "7cbe4b73-6ad0-4eaa-b378-985c72ca45f8",
   "metadata": {},
   "outputs": [
    {
     "name": "stdout",
     "output_type": "stream",
     "text": [
      "[1, 2, 'ad', 'parth', 'a', 1, 2, 3, 4, 5]\n"
     ]
    }
   ],
   "source": [
    "lst2 = [1,2,3,4,5]\n",
    "lst = lst1+lst2\n",
    "print(lst)"
   ]
  },
  {
   "cell_type": "code",
   "execution_count": 12,
   "id": "91949caa-6456-4325-b180-6b26784271c2",
   "metadata": {},
   "outputs": [
    {
     "data": {
      "text/plain": [
       "10"
      ]
     },
     "execution_count": 12,
     "metadata": {},
     "output_type": "execute_result"
    }
   ],
   "source": [
    "len(lst)"
   ]
  },
  {
   "cell_type": "code",
   "execution_count": 13,
   "id": "9ffd9de0-8dd7-44fa-b3ef-b3928a8821dd",
   "metadata": {},
   "outputs": [
    {
     "data": {
      "text/plain": [
       "[1, 2, 'ad', 'parth', 'a', 1, 2, 3, 4, 5, 24]"
      ]
     },
     "execution_count": 13,
     "metadata": {},
     "output_type": "execute_result"
    }
   ],
   "source": [
    "lst.append(24)\n",
    "lst\n"
   ]
  },
  {
   "cell_type": "code",
   "execution_count": 14,
   "id": "bbef54f3-7ff4-49c0-a3da-0fdf62d83613",
   "metadata": {},
   "outputs": [
    {
     "name": "stdout",
     "output_type": "stream",
     "text": [
      "[1, 2, 'ad', 'parth', 'a', 1, 2, 3, 4, 5, 24, 25, 15, 64]\n"
     ]
    }
   ],
   "source": [
    "lst.extend([25,15,64])\n",
    "print(lst)"
   ]
  },
  {
   "cell_type": "markdown",
   "id": "bb225bf8-a215-4ed2-b212-e8c29f9053e0",
   "metadata": {},
   "source": [
    "## inserting an element at a position\n",
    "##### A.lst.insert(position,object)\n"
   ]
  },
  {
   "cell_type": "code",
   "execution_count": 6,
   "id": "a7017a14-afbe-492a-b900-fc45baaa63ef",
   "metadata": {},
   "outputs": [
    {
     "name": "stdout",
     "output_type": "stream",
     "text": [
      "[1, 2, 3, 4, 8, 7, 9]\n"
     ]
    }
   ],
   "source": [
    "lst = [1,2,3,8,7,9]\n",
    "lst.insert(3,4)\n",
    "print(lst)"
   ]
  },
  {
   "cell_type": "markdown",
   "id": "760a0671-45e1-4147-956b-cfdfaa4f6a93",
   "metadata": {},
   "source": [
    "## removing the object\n",
    "#### A.lst.remove(object)\n",
    "#### b.lst.pop(index)"
   ]
  },
  {
   "cell_type": "code",
   "execution_count": 20,
   "id": "81995d79-2875-40de-b4c5-e3f149b5758a",
   "metadata": {},
   "outputs": [
    {
     "name": "stdout",
     "output_type": "stream",
     "text": [
      "[1, 2, 3, 5, 6, 7]\n"
     ]
    }
   ],
   "source": [
    "lst = [1,2,3,4,5,6,7]\n",
    "lst.remove(4)\n",
    "print(lst)"
   ]
  },
  {
   "cell_type": "code",
   "execution_count": 22,
   "id": "2286f7ae-e060-4cb2-8028-8bc90955032f",
   "metadata": {},
   "outputs": [
    {
     "name": "stdout",
     "output_type": "stream",
     "text": [
      "[1, 5, 6, 7]\n"
     ]
    }
   ],
   "source": [
    "lst.pop(1)\n",
    "print(lst)"
   ]
  },
  {
   "cell_type": "markdown",
   "id": "34e8c870-dcd7-4bd7-bfb4-72b7a4ba942e",
   "metadata": {},
   "source": [
    "## sorting a list\n",
    "#### A.list.sort()\n",
    "#### B.sorted(list,reverse=true)"
   ]
  },
  {
   "cell_type": "code",
   "execution_count": 23,
   "id": "6f914e00-2cf2-461f-9f39-3244fc28db49",
   "metadata": {},
   "outputs": [
    {
     "name": "stdout",
     "output_type": "stream",
     "text": [
      "[1, 2, 5, 6, 7, 8]\n"
     ]
    }
   ],
   "source": [
    "lst3 = [1,6,2,5,8,7]\n",
    "lst3.sort()\n",
    "print(lst3)"
   ]
  },
  {
   "cell_type": "code",
   "execution_count": 25,
   "id": "b732f50a-c8c7-4b18-8af4-129f848ac7e1",
   "metadata": {},
   "outputs": [
    {
     "data": {
      "text/plain": [
       "[8, 7, 6, 5, 2, 1]"
      ]
     },
     "execution_count": 25,
     "metadata": {},
     "output_type": "execute_result"
    }
   ],
   "source": [
    "sorted(lst3, reverse = True)"
   ]
  },
  {
   "cell_type": "code",
   "execution_count": null,
   "id": "dd130251-cc03-4255-b3b0-3648ac134e18",
   "metadata": {},
   "outputs": [],
   "source": []
  }
 ],
 "metadata": {
  "kernelspec": {
   "display_name": "anaconda-2024.02-py310",
   "language": "python",
   "name": "conda-env-anaconda-2024.02-py310-py"
  },
  "language_info": {
   "codemirror_mode": {
    "name": "ipython",
    "version": 3
   },
   "file_extension": ".py",
   "mimetype": "text/x-python",
   "name": "python",
   "nbconvert_exporter": "python",
   "pygments_lexer": "ipython3",
   "version": "3.10.14"
  }
 },
 "nbformat": 4,
 "nbformat_minor": 5
}

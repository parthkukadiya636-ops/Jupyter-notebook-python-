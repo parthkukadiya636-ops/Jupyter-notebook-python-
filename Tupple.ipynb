{
 "cells": [
  {
   "cell_type": "code",
   "execution_count": 3,
   "id": "48f86de4-4d4b-481b-b6b2-48252ed57729",
   "metadata": {
    "scrolled": true
   },
   "outputs": [
    {
     "name": "stdout",
     "output_type": "stream",
     "text": [
      "(25, 45, 'Parth', 'Hello!!')\n"
     ]
    }
   ],
   "source": [
    "tuple = (25,45,\"Parth\",\"Hello!!\")\n",
    "print(tuple)"
   ]
  },
  {
   "cell_type": "code",
   "execution_count": 4,
   "id": "a203f1e1-e5ba-49e0-b28e-d375a5f7b5dd",
   "metadata": {},
   "outputs": [
    {
     "name": "stdout",
     "output_type": "stream",
     "text": [
      "(45, 'kukadiya', 58)\n"
     ]
    }
   ],
   "source": [
    "tuple1 = (45,\"kukadiya\", 58)\n",
    "print(tuple1)"
   ]
  },
  {
   "cell_type": "code",
   "execution_count": 5,
   "id": "73c0e586-2f7a-46cb-b84a-6ddcbaa169da",
   "metadata": {},
   "outputs": [
    {
     "data": {
      "text/plain": [
       "((25, 45, 'Parth', 'Hello!!'), (34, 55))"
      ]
     },
     "execution_count": 5,
     "metadata": {},
     "output_type": "execute_result"
    }
   ],
   "source": [
    "tuple1 = tuple, (34,55)\n",
    "tuple1"
   ]
  },
  {
   "cell_type": "code",
   "execution_count": 6,
   "id": "6b716fdf-032f-4f60-9aff-1adb2ddf86ec",
   "metadata": {},
   "outputs": [
    {
     "data": {
      "text/plain": [
       "(25, 45, 'Parth', 'Hello!!')"
      ]
     },
     "execution_count": 6,
     "metadata": {},
     "output_type": "execute_result"
    }
   ],
   "source": [
    "tuple1[0]"
   ]
  },
  {
   "cell_type": "markdown",
   "id": "6ccd2906-efa8-4608-af9b-145b1de2cc12",
   "metadata": {},
   "source": [
    " #### once the tupple is made the value inside it cannot be replaced "
   ]
  },
  {
   "cell_type": "code",
   "execution_count": 8,
   "id": "a7bae1da-0649-4221-ad3b-4f0fc238f87d",
   "metadata": {},
   "outputs": [
    {
     "ename": "TypeError",
     "evalue": "'tuple' object does not support item assignment",
     "output_type": "error",
     "traceback": [
      "\u001b[0;31m---------------------------------------------------------------------------\u001b[0m",
      "\u001b[0;31mTypeError\u001b[0m                                 Traceback (most recent call last)",
      "Cell \u001b[0;32mIn[8], line 1\u001b[0m\n\u001b[0;32m----> 1\u001b[0m \u001b[38;5;28mtuple\u001b[39m[\u001b[38;5;241m2\u001b[39m] \u001b[38;5;241m=\u001b[39m \u001b[38;5;241m4\u001b[39m\n",
      "\u001b[0;31mTypeError\u001b[0m: 'tuple' object does not support item assignment"
     ]
    }
   ],
   "source": [
    " tuple[2] = 4\n",
    "# it shows me the error the value assignment is not possible in tuple but it is possible in list same as array."
   ]
  },
  {
   "cell_type": "code",
   "execution_count": 9,
   "id": "a89dff55-6f3b-484e-9e0b-00cb6827d60c",
   "metadata": {},
   "outputs": [
    {
     "data": {
      "text/plain": [
       "(25, 45, 'Parth', 'Hello!!')"
      ]
     },
     "execution_count": 9,
     "metadata": {},
     "output_type": "execute_result"
    }
   ],
   "source": [
    "tuple"
   ]
  },
  {
   "cell_type": "code",
   "execution_count": 13,
   "id": "2a33e211-c6d3-445f-9cba-38bf248d74d7",
   "metadata": {},
   "outputs": [
    {
     "name": "stdout",
     "output_type": "stream",
     "text": [
      "(((25, 45, 'Parth', 'Hello!!'), (34, 55)), [45, 58, 97])\n"
     ]
    }
   ],
   "source": [
    "tuple = tuple1 , [45,58,97]\n",
    "print(tuple)"
   ]
  },
  {
   "cell_type": "markdown",
   "id": "eaaa83b6-8c11-4852-bd3f-74bb906fb632",
   "metadata": {},
   "source": [
    "### but i can change the value in list which is present in tupple \n"
   ]
  },
  {
   "cell_type": "code",
   "execution_count": 22,
   "id": "e5838d01-e50d-4e31-ac65-123a45584aeb",
   "metadata": {},
   "outputs": [
    {
     "name": "stdout",
     "output_type": "stream",
     "text": [
      "(((25, 45, 'Parth', 'Hello!!'), (34, 55)), [45, 58, 85])\n"
     ]
    }
   ],
   "source": [
    "tuple[1][2] = 85\n",
    "print(tuple)"
   ]
  },
  {
   "cell_type": "code",
   "execution_count": 23,
   "id": "f771ab25-503c-48b2-b37d-ddfbe2e39ed1",
   "metadata": {},
   "outputs": [
    {
     "name": "stdout",
     "output_type": "stream",
     "text": [
      "(((25, 45, 'Parth', 'Hello!!'), (34, 55)), [45, 'parth', 85])\n"
     ]
    }
   ],
   "source": [
    "tuple[1][1] = \"parth\"\n",
    "print(tuple)"
   ]
  },
  {
   "cell_type": "code",
   "execution_count": null,
   "id": "bbbf3fff-f575-41e7-bcb2-e2ed2c3798f7",
   "metadata": {},
   "outputs": [],
   "source": []
  }
 ],
 "metadata": {
  "kernelspec": {
   "display_name": "anaconda-2024.02-py310",
   "language": "python",
   "name": "conda-env-anaconda-2024.02-py310-py"
  },
  "language_info": {
   "codemirror_mode": {
    "name": "ipython",
    "version": 3
   },
   "file_extension": ".py",
   "mimetype": "text/x-python",
   "name": "python",
   "nbconvert_exporter": "python",
   "pygments_lexer": "ipython3",
   "version": "3.10.14"
  }
 },
 "nbformat": 4,
 "nbformat_minor": 5
}
